{
 "cells": [
  {
   "cell_type": "code",
   "execution_count": 6,
   "id": "dee3f010-151d-4621-9203-e4f2c94900e0",
   "metadata": {},
   "outputs": [
    {
     "name": "stdin",
     "output_type": "stream",
     "text": [
      "enter the text I'm Shashank. and my final practical is going to be held on 17 december 2024\n"
     ]
    },
    {
     "name": "stdout",
     "output_type": "stream",
     "text": [
      "I'm Shashank. And my final practical is going to be held on (1)(7) december (2)(0)(2)(4)\n"
     ]
    }
   ],
   "source": [
    "#wap that writes a data to a file in such a way that each character after a full stop is capitalized and all the numbers are written in brackets\n",
    "\n",
    "def process_text(input_text):\n",
    "    result = []\n",
    "    capitalize_next = False\n",
    "\n",
    "    for char in input_text:\n",
    "        if char == '.':\n",
    "            capitalize_next = True\n",
    "            result.append(char)\n",
    "        elif char.isdigit():\n",
    "            result.append(f'({char})')\n",
    "        elif capitalize_next and char.isalpha():\n",
    "            result.append(char.upper())\n",
    "            capitalize_next = False\n",
    "        else:\n",
    "            result.append(char)\n",
    "    \n",
    "    return ''.join(result)\n",
    "\n",
    "input_text = input(\"enter the text\")\n",
    "processed_text = process_text(input_text)\n",
    "\n",
    "\n",
    "with open('output.txt', 'w') as file:\n",
    "    file.write(processed_text)\n",
    "\n",
    "\n",
    "with open('output.txt', 'r') as file:\n",
    "    print(file.read())\n",
    "\n",
    "\n"
   ]
  },
  {
   "cell_type": "code",
   "execution_count": 8,
   "id": "aa19f056-c1f3-45de-a804-6f1dac15ba57",
   "metadata": {},
   "outputs": [
    {
     "name": "stdout",
     "output_type": "stream",
     "text": [
      "Occurrences of pattern aba  in text ababa : [0, 2]\n",
      "Occurrences of pattern 'aa' in text 'aabaabaaa': [0, 3, 6, 7]\n",
      "Pattern is empty.\n",
      "Pattern is longer than the text.\n"
     ]
    }
   ],
   "source": [
    "'''wap that finds all occurence of a pattern in a string,including overlapping matches\n",
    "requirements-- create a class PatternFinder with:\n",
    "find_pattern(self,text,pattern)-finds all overlapping occurences of the pattern\n",
    "use string slicing or regex to implement the logic\n",
    "handle edge cases like empty patterns or patterns longer than the string'''\n",
    "class PatternFinder:\n",
    "    def find_pattern(self, text, pattern):\n",
    "       \n",
    "        if not pattern:\n",
    "            return \"Pattern is empty.\"\n",
    "        if len(pattern) > len(text):\n",
    "            return \"Pattern is longer than the text.\"\n",
    "\n",
    "        matches = []\n",
    "        for i in range(len(text) - len(pattern) + 1):\n",
    "          \n",
    "            if text[i:i+len(pattern)] == pattern:\n",
    "                matches.append(i)\n",
    "        \n",
    "        return matches\n",
    "\n",
    "\n",
    "finder = PatternFinder()\n",
    "\n",
    "text = \"ababa\"\n",
    "pattern = \"aba\"\n",
    "matches = finder.find_pattern(text, pattern)\n",
    "print(\"Occurrences of pattern\",pattern,\" in text\",text,\":\" ,matches)\n",
    "\n",
    "text = \"aabaabaaa\"\n",
    "pattern = \"aa\"\n",
    "matches = finder.find_pattern(text, pattern)\n",
    "print(\"Occurrences of pattern\",pattern,\" in text\",text,\":\" ,matches)\n",
    "\n",
    "print(finder.find_pattern(\"hello\", \"\"))  \n",
    "print(finder.find_pattern(\"hi\", \"hello\"))  \n",
    "\n"
   ]
  },
  {
   "cell_type": "code",
   "execution_count": 10,
   "id": "fe6eb09c-92f9-41f4-9cdc-2841b3c2a4ef",
   "metadata": {},
   "outputs": [
    {
     "name": "stdin",
     "output_type": "stream",
     "text": [
      "Enter a list of integers separated by spaces:  1 2 3 -4 -5 5 -6 7 10 -11 \n"
     ]
    },
    {
     "name": "stdout",
     "output_type": "stream",
     "text": [
      "The two numbers in the list whose sum is closest to zero are: -5 and 5\n"
     ]
    }
   ],
   "source": [
    "#WAP to: Accept a list of integer from the user. find two numbers in the list whose sum is closest to zero\n",
    "def find_closest_sum_to_zero(nums):\n",
    "    nums.sort()\n",
    "    closest_sum = float('inf')\n",
    "    left, right = 0, len(nums) - 1\n",
    "    best_pair = (None, None)\n",
    "    \n",
    "    while left < right:\n",
    "        current_sum = nums[left] + nums[right]\n",
    "        if abs(current_sum) < abs(closest_sum):\n",
    "            closest_sum = current_sum\n",
    "            best_pair = (nums[left], nums[right])\n",
    "        \n",
    "        if current_sum < 0:\n",
    "            left += 1\n",
    "        elif current_sum > 0:\n",
    "            right -= 1\n",
    "        else:\n",
    "            break\n",
    "    \n",
    "    return best_pair\n",
    "\n",
    "user_input = input(\"Enter a list of integers separated by spaces: \")\n",
    "nums = list(map(int, user_input.split()))\n",
    "\n",
    "\n",
    "pair = find_closest_sum_to_zero(nums)\n",
    "\n",
    "\n",
    "print(\"The two numbers in the list whose sum is closest to zero are:\", pair[0], \"and\", pair[1])\n"
   ]
  },
  {
   "cell_type": "code",
   "execution_count": null,
   "id": "e431d215-f936-43ca-9733-6869cbd9af27",
   "metadata": {},
   "outputs": [],
   "source": []
  }
 ],
 "metadata": {
  "kernelspec": {
   "display_name": "Python 3 (ipykernel)",
   "language": "python",
   "name": "python3"
  },
  "language_info": {
   "codemirror_mode": {
    "name": "ipython",
    "version": 3
   },
   "file_extension": ".py",
   "mimetype": "text/x-python",
   "name": "python",
   "nbconvert_exporter": "python",
   "pygments_lexer": "ipython3",
   "version": "3.12.5"
  }
 },
 "nbformat": 4,
 "nbformat_minor": 5
}
