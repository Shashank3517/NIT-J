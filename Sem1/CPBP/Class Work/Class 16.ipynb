{
 "cells": [
  {
   "cell_type": "code",
   "execution_count": null,
   "id": "bbf1540a-7fee-462a-8cf2-e4bd33d3a14b",
   "metadata": {},
   "outputs": [],
   "source": [
    "#error and exception\n",
    "'''syntax error occurs when we voilate the rules of python\n",
    "logic error -- it specifies all those types of errors in which the program executes but gives incorrect results,it may occur due to wrong algo or logic \n",
    "to solve a particular program,in some cases logic errors may lead to divide by zero or accessing a item in a list where the index of the item is outside the bounds of \n",
    "the list, in this case logic error leads to runtime error that causes the program to terminate abruptly, these type of runtime errors are known as exceptions\n",
    "\n",
    "#Exceptions---it is a event which occurs during the execution of a program and disruptes the normal flow of the program's instructions,it is a python object\n",
    "that represents a error.\n",
    "\n",
    "#handling exceptions---tryblock and exceptblock--a critical operation which can raise exception is placed inside the tryblock and the code that handles the \n",
    "exception is written in the except block\n",
    "try:\n",
    "  statements\n",
    "except exceptionname:\n",
    "  statements"
   ]
  },
  {
   "cell_type": "code",
   "execution_count": 7,
   "id": "2aa3ad6b-ce58-401d-a524-23de571e5a7d",
   "metadata": {},
   "outputs": [
    {
     "name": "stdin",
     "output_type": "stream",
     "text": [
      " 5\n",
      " 0\n"
     ]
    },
    {
     "name": "stdout",
     "output_type": "stream",
     "text": [
      "denominator cannot be zero\n"
     ]
    }
   ],
   "source": [
    "#wap to handle the divide by zero exception\n",
    "num=int(input())\n",
    "div=int(input())\n",
    "try:\n",
    "    q=num/div\n",
    "    print(q)\n",
    "except ZeroDivisionError:\n",
    "    print(\"denominator cannot be zero\")"
   ]
  },
  {
   "cell_type": "code",
   "execution_count": 4,
   "id": "df351748-d050-4d16-9f54-dd94dc5dcb39",
   "metadata": {},
   "outputs": [
    {
     "name": "stdin",
     "output_type": "stream",
     "text": [
      "Enter the numerator:  5\n",
      "Enter the denominator:  0\n"
     ]
    },
    {
     "name": "stdout",
     "output_type": "stream",
     "text": [
      "Error: Denominator cannot be zero.\n"
     ]
    }
   ],
   "source": [
    "num = int(input(\"Enter the numerator: \"))\n",
    "div = int(input(\"Enter the denominator: \"))\n",
    "\n",
    "try:\n",
    "    q = num / div\n",
    "    print(\"Quotient:\", q)\n",
    "except ZeroDivisionError:\n",
    "    print(\"Error: Denominator cannot be zero.\")\n"
   ]
  },
  {
   "cell_type": "code",
   "execution_count": 17,
   "id": "a6ce1cda-07fa-4373-8fe8-0ef9ee62368e",
   "metadata": {},
   "outputs": [
    {
     "name": "stdin",
     "output_type": "stream",
     "text": [
      " .2\n"
     ]
    },
    {
     "name": "stdout",
     "output_type": "stream",
     "text": [
      "check before the program terminates\n"
     ]
    }
   ],
   "source": [
    "#multiple exception in a single block\n",
    "'''an except clause may name multiple exceptions as a paranthesized tuple,so whatever exception is raised that except block will be executed out\n",
    "of those exceptions'''\n",
    "\n",
    "try:\n",
    "    num=int(input())\n",
    "    print(num**2)    \n",
    "except (KeyboardInterrupt,TypeError, ValueError):\n",
    "    print(\"check before the program terminates\")\n"
   ]
  },
  {
   "cell_type": "code",
   "execution_count": 15,
   "id": "f3590636-465c-4627-9da4-cf082a67a354",
   "metadata": {},
   "outputs": [
    {
     "name": "stdin",
     "output_type": "stream",
     "text": [
      " .2\n"
     ]
    },
    {
     "name": "stdout",
     "output_type": "stream",
     "text": [
      "Error occurred. Please check input before the program terminates.\n"
     ]
    }
   ],
   "source": [
    "try:\n",
    "    num = int(input())\n",
    "    print(num**2)\n",
    "except (KeyboardInterrupt, TypeError, ValueError):\n",
    "    print(\"Error occurred. Please check input before the program terminates.\")\n",
    "\n"
   ]
  },
  {
   "cell_type": "code",
   "execution_count": 18,
   "id": "5d3a3fad-c8a8-46d2-86ef-fb54adc8aa53",
   "metadata": {},
   "outputs": [
    {
     "name": "stdout",
     "output_type": "stream",
     "text": [
      "10\n",
      "Exception\n"
     ]
    }
   ],
   "source": [
    "#except block without exception\n",
    "'''you can even specify a except block without mentioning any exception\n",
    "try:\n",
    "  operation statement\n",
    "except:\n",
    "  statements\n",
    "  statements\n",
    "else:\n",
    "\n",
    "#the else clause---try and except block can optionally have an else clause which when present must follow all expect blocks \n",
    "\n",
    "\n",
    "#raising exceptions-- we can raise an exception using raise keyword\n",
    "raise[exception[,args[,traceback]]]'''\n",
    "try:\n",
    "    num=10\n",
    "    print(num)\n",
    "    raise ValueError\n",
    "except:\n",
    "    print(\"Exception\")\n",
    "    "
   ]
  },
  {
   "cell_type": "code",
   "execution_count": null,
   "id": "270b4a73-75da-4f65-8230-6800011e5299",
   "metadata": {},
   "outputs": [],
   "source": [
    "#Instentiated exceptions\n",
    "'''python allows programmers to instentiste an exception first before raising it and add any attributes to it as desired,these attributes to give additional \n",
    "info about the error\n",
    "try:\n",
    "    num=10\n",
    "    print(num)\n",
    "    raise ValueError\n",
    "except Exception as errorObj:\n",
    "    print(type(errorObj))\n",
    "print(errorObj.args)\n",
    "arg1,arg2=errorObj args"
   ]
  },
  {
   "cell_type": "code",
   "execution_count": null,
   "id": "6e3ef211-1f20-4fac-8e2c-4c49d078a6f6",
   "metadata": {},
   "outputs": [],
   "source": [
    "#the finally block--the try block has an another optional block that is finally,used to define cleanup actions that must be executed under all circumstances\n",
    "'''it is always executed before leaving the try block\n",
    "try: \n",
    "    --------\n",
    "    finally:\n",
    "       -----#(this will always be executes)\n",
    "\n",
    "\n",
    "#assertions in python---it is a basic check that can be turned  on or offwhen the program is being tested\n",
    "assert expression[,arguments]"
   ]
  },
  {
   "cell_type": "code",
   "execution_count": 25,
   "id": "345c3ac8-9e6c-4304-9ef4-01e942fd4beb",
   "metadata": {},
   "outputs": [
    {
     "name": "stdin",
     "output_type": "stream",
     "text": [
      "Enter a number:  x\n"
     ]
    },
    {
     "name": "stdout",
     "output_type": "stream",
     "text": [
      "No valid number is entered\n"
     ]
    }
   ],
   "source": [
    "#wap that prompts a user to enter a number and prints the square of number if no number is entered than a keyboard interrupt is generated\n",
    "try:\n",
    "    x = int(input(\"Enter a number: \"))\n",
    "    print(x**2)\n",
    "except (ValueError, KeyboardInterrupt):\n",
    "    print(\"No valid number is entered\")\n"
   ]
  },
  {
   "cell_type": "code",
   "execution_count": 35,
   "id": "941bf7a9-a9ea-4ad9-97a5-b7ea1f527766",
   "metadata": {},
   "outputs": [],
   "source": [
    "#wap which infinitely prints natural numbers. raise the stop iteration exception after displaying first 20 numbers to exit from the program\n",
    "def display(n):\n",
    "    while True:\n",
    "        try:\n",
    "            n=n+1\n",
    "            if n>20:\n",
    "                raise StopIteration\n",
    "        except StopIteration:\n",
    "            break\n",
    "    else:\n",
    "        print(n)\n",
    "i=0\n",
    "display(i)\n",
    "\n",
    "\n"
   ]
  },
  {
   "cell_type": "code",
   "execution_count": 33,
   "id": "aab7cb6c-163f-4196-a8d5-033825bd0c06",
   "metadata": {},
   "outputs": [
    {
     "name": "stdout",
     "output_type": "stream",
     "text": [
      "1\n",
      "2\n",
      "3\n",
      "4\n",
      "5\n",
      "6\n",
      "7\n",
      "8\n",
      "9\n",
      "10\n",
      "11\n",
      "12\n",
      "13\n",
      "14\n",
      "15\n",
      "16\n",
      "17\n",
      "18\n",
      "19\n",
      "20\n"
     ]
    }
   ],
   "source": [
    "def display(n):\n",
    "    while True:\n",
    "        try:\n",
    "            n = n + 1\n",
    "            if n > 20:  # Changed from n == 21\n",
    "                raise StopIteration\n",
    "            print(n)\n",
    "        except StopIteration:\n",
    "            break\n",
    "\n",
    "i = 0\n",
    "display(i)"
   ]
  },
  {
   "cell_type": "code",
   "execution_count": 3,
   "id": "c854c170-3191-49b2-a762-84f0f1b5a2c6",
   "metadata": {},
   "outputs": [
    {
     "name": "stdout",
     "output_type": "stream",
     "text": [
      "Generated number: 0.02229247935001155\n",
      "Exception: Number is below the threshold of 0.1\n",
      "Generated number: 0.14258519579951334\n"
     ]
    }
   ],
   "source": [
    "#wap that randomly generates a number,raise a user define exception if the number is below 0.1\n",
    "import random\n",
    "\n",
    "# User-defined exception\n",
    "class BelowThresholdError(Exception):\n",
    "    def __init__(self, number, message=\"Number is below the threshold of 0.1\"):\n",
    "        self.number = number\n",
    "        self.message = message\n",
    "        super().__init__(self.message)\n",
    "\n",
    "# Function to generate a random number and check threshold\n",
    "def generate_and_check():\n",
    "    number = random.random()  # Generates a random float between 0.0 and 1.0\n",
    "    print(f\"Generated number: {number}\")\n",
    "    \n",
    "    if number < 0.1:\n",
    "        raise BelowThresholdError(number)\n",
    "\n",
    "# Main code\n",
    "try:\n",
    "    generate_and_check()\n",
    "except BelowThresholdError as e:\n",
    "    print(f\"Exception: {e}\")\n",
    "\n",
    "# Example usage\n",
    "if __name__ == \"__main__\":\n",
    "    generate_and_check()\n"
   ]
  },
  {
   "cell_type": "code",
   "execution_count": null,
   "id": "f051a629-80f6-4bbf-8dd9-fb6d0898f4ed",
   "metadata": {},
   "outputs": [],
   "source": []
  },
  {
   "cell_type": "code",
   "execution_count": null,
   "id": "059bd515-66ff-4eae-80df-7f864cca1216",
   "metadata": {},
   "outputs": [],
   "source": []
  }
 ],
 "metadata": {
  "kernelspec": {
   "display_name": "Python 3 (ipykernel)",
   "language": "python",
   "name": "python3"
  },
  "language_info": {
   "codemirror_mode": {
    "name": "ipython",
    "version": 3
   },
   "file_extension": ".py",
   "mimetype": "text/x-python",
   "name": "python",
   "nbconvert_exporter": "python",
   "pygments_lexer": "ipython3",
   "version": "3.12.5"
  }
 },
 "nbformat": 4,
 "nbformat_minor": 5
}
